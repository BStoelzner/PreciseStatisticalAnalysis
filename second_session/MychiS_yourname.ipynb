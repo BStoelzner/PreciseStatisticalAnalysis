{
 "cells": [
  {
   "cell_type": "markdown",
   "id": "586432b9",
   "metadata": {},
   "source": [
    "# Make your own mock data and write your own MCMC\n",
    "\n",
    "Aim: Understand and write a simple MCMC code that can sample a likelihood surface, then plot results. "
   ]
  },
  {
   "cell_type": "code",
   "execution_count": 5,
   "id": "31447e03",
   "metadata": {},
   "outputs": [],
   "source": [
    "# Import your libraries:\n",
    "\n",
    "# Genral imports\n",
    "import numpy as np\n",
    "\n",
    "# Plotting imports\n",
    "import matplotlib.pylab as plt\n",
    "from matplotlib import colors as mcolors"
   ]
  },
  {
   "cell_type": "markdown",
   "id": "9d75ee8e",
   "metadata": {},
   "source": [
    "## A: Create a data vector\n",
    "\n",
    "First step of the assignment is to create a toy data vector. We start by using this simple function. You can play with other functions later. "
   ]
  },
  {
   "cell_type": "code",
   "execution_count": 8,
   "id": "deb4a856",
   "metadata": {},
   "outputs": [],
   "source": [
    "# A simple function with two variables\n",
    "def mockdata(x,a,b):\n",
    "    return a*np.log10(x)+b"
   ]
  },
  {
   "cell_type": "markdown",
   "id": "e496cebd",
   "metadata": {},
   "source": [
    "Now define 9 $x$ values between 0.5 and 300.0 in log10 space. We are going to set $a$ and $b$ to the values below for now. "
   ]
  },
  {
   "cell_type": "code",
   "execution_count": 9,
   "id": "8867d807",
   "metadata": {},
   "outputs": [],
   "source": [
    "# Define 9 x values between 0.5 and 300 in logspace\n",
    "xmin = 0.5\n",
    "xmax = 300.0\n",
    "nx   = 9\n",
    "x = np.logspace(np.log10(xmin), np.log10(xmax), nx)\n",
    "\n",
    "# Set the input a and b values\n",
    "a = 0.75\n",
    "b = 0.3\n",
    "\n",
    "# Create a mock data vector,call it y_th using the simple function: mockdata for the above x values \n",
    "y_th = mockdata(x,a,b)"
   ]
  },
  {
   "cell_type": "markdown",
   "id": "08a9c824",
   "metadata": {},
   "source": [
    "## B: Add noise to mock data\n",
    "We want to make a data vector that resembles real data. Real data has noise, so lets add noise to our theoretical model. \n",
    "\n",
    "### Add noise\n",
    "\n",
    "Now create a noise realisation by randomly picking from a Gaussian distribution (hint: you can use np.random.normal to do this)"
   ]
  },
  {
   "cell_type": "code",
   "execution_count": 10,
   "id": "6e49408b",
   "metadata": {},
   "outputs": [
    {
     "data": {
      "image/png": "[encoded data removed]",
      "text/plain": [
       "<Figure size 720x432 with 1 Axes>"
      ]
     },
     "metadata": {
      "needs_background": "light"
     },
     "output_type": "display_data"
    }
   ],
   "source": [
    "# Create noise realisation Gaussian independent error\n",
    "sigma = 1. \n",
    "noise_realisation = np.random.normal(0.,sigma,nx)\n",
    "\n",
    "# we are going to use this later, this is a nx times nx diagonal covariance with the diagonal elements equal to sigma\n",
    "cov = np.diag(np.ones(nx)*sigma)\n",
    "\n",
    "# Add noise to the theoretical data vector\n",
    "y_data = y_th + noise_realisation\n",
    "\n",
    "# plot y_th and y_data (with errorbars, hint: you can use plt.errorbar) \n",
    "plt.figure(figsize=(10,6))\n",
    "plt.xscale('log')\n",
    "plt.errorbar(x,y_data,yerr=sigma)\n",
    "plt.plot(x,y_th,'-')\n",
    "plt.xlabel(\"x\")\n",
    "plt.ylabel(\"y\")\n",
    "plt.savefig(\"xy.png\")"
   ]
  },
  {
   "cell_type": "markdown",
   "id": "d91bed8e",
   "metadata": {},
   "source": [
    "## C: Fit the model to the data\n",
    "\n",
    "In this example we know the true model and the value of its parameters (we defined it ourselves!). In reality we won't know that. So for now lets forget that we already have this information and try to find a fit to our data.\n",
    "\n",
    "\n",
    "### C.1: Define $\\chi^2$\n",
    "\n",
    "The $\\chi^2$ function for a general case is \n",
    "\n",
    "\\begin{equation}\n",
    "\\chi^2=\\sum_{i,j}^{N}[y_i-\\mu_i(\\Phi)](C^{-1})_{ij}[y_j-\\mu_j(\\Phi)]\\;,\n",
    "\\end{equation}\n",
    "\n",
    "where $\\mu_i$ are the expected values of the observables, $y_i$, \n",
    "and $C^{-1}$ is the inverse covariance matrix. \n",
    "The $\\chi^2$ fitting is a generalized (weighted) form of least-square fitting.\n",
    "To see why notice that if the covariance is a diagonal matrix with equal diagonal components , \n",
    "$\\sigma^2$ (like we had in B.1), the simple least-square formula is attained,\n",
    "\n",
    "\\begin{equation}\n",
    " \\chi^2_\\mathrm{simple}=\\frac{1}{\\sigma^2}\\sum_{i}^{N}[y_i-\\mu_i(\\Phi)]^2\\;,\n",
    "\\end{equation}\n",
    "\n",
    "and minimizing this simplified $\\chi^2$ results in finding the best fitting values.\n",
    "\n",
    "Notice that the general definition can be simplied using matrix multiplication:\n",
    "\n",
    "\\begin{equation}\n",
    "\\chi^2=\\Delta \\mathbf{y}\\; C^{-1}\\; \\Delta \\mathbf{y}^t \\;,\n",
    "\\end{equation}\n",
    "\n",
    "where $\\Delta \\mathbf{y} = \\mathbf{y}-\\mathbf{\\mu}$ is a vector."
   ]
  },
  {
   "cell_type": "code",
   "execution_count": 11,
   "id": "38d6eacb",
   "metadata": {},
   "outputs": [],
   "source": [
    "# define a chi^2 function based on the last equation above.\n",
    "def chisq_func(y_data,y_th,cov):\n",
    "    delta_y = y_data - y_th\n",
    "    chisq = np.dot(delta_y,np.dot(np.linalg.inv(cov),np.transpose(delta_y)))\n",
    "    return chisq"
   ]
  },
  {
   "cell_type": "markdown",
   "id": "dd677690",
   "metadata": {},
   "source": [
    "### C.2 What does the $\\chi^2$ value tell us?\n",
    "\n",
    "We can use $\\chi^2$ to define our likelihood. But $\\chi^2$ by itself has meaning. To find out\n",
    "Run the code from B.2 again and notice that the chisq value changes. Repeat this for 1000s of noise realisations and plot the chisq distribution. "
   ]
  },
  {
   "cell_type": "code",
   "execution_count": 12,
   "id": "f7e22ea7",
   "metadata": {},
   "outputs": [],
   "source": [
    "# Number of realisations. You can change this and see how the distribution converges\n",
    "nReal = 10000\n",
    "# \n",
    "error = np.random.multivariate_normal(np.zeros(nx),cov,nReal)\n",
    "\n",
    "# example histogram plot, assuming that chisq is an array of chi^2 values with the same length as nReal\n",
    "# counts=plt.hist(chisq_arr,color='blue', range=(chisq_arr.min(),chisq_arr.max()), bins=100, density=True, alpha=0.5,histtype='stepfilled',label=r\"Mock data chi^2\")"
   ]
  },
  {
   "cell_type": "markdown",
   "id": "0c02c95e",
   "metadata": {},
   "source": [
    "## C.3 Chi squared distribution\n",
    "\n",
    "What you have plotted above is the distribution $\\chi^2$ values, which follows a $\\chi^2$ distribution if your data is Gaussian distributed. Mathematically it looks like this:\n",
    "\n",
    "\\begin{equation}\n",
    "p(x=\\chi^2) = \\frac{x^{d/2-1} e^{-x/2} }{2^{d/2} \\Gamma(d/2)}\n",
    "\\end{equation}\n",
    "\n",
    "where $d$ is the degrees-of-freedom and the \\Gamma function is a generalised form of factorial function that works for non-integer numbers as well. \n",
    "\n",
    "This distribution tends to a Gaussian for $d \\rightarrow \\infty$. The mean of the distribution is $d$ and its variance is $2d$.\n",
    "\n",
    "Python already has this coded up in scipy (scipy.stats.chi2.pdf). Your next task is to overplot a theoretical $\\chi^2$ distribution on top of the histogram that your plotted above. "
   ]
  },
  {
   "cell_type": "code",
   "execution_count": 13,
   "id": "1e01058a",
   "metadata": {},
   "outputs": [],
   "source": [
    "# Import scipy and use it to plot a chi2 distribution (a curve) on top of your histogram. \n",
    "from scipy.stats import chi2\n",
    "\n",
    "# What is the degrees-of-freedom? \n",
    "\n",
    "\n",
    "\n",
    "\n",
    "\n"
   ]
  },
  {
   "cell_type": "markdown",
   "id": "536500aa",
   "metadata": {},
   "source": [
    "## C.4 $p$-value: Probability to Exceed\n",
    "\n",
    "A $\\chi^2$ value by itself is difficult to decipher. Sometime people use the reduced $\\chi^2$,\n",
    "\n",
    "\\begin{equation}\n",
    "\\chi^2_{\\rm red}=\\frac{\\chi^2}{d}, \n",
    "\\end{equation}\n",
    "\n",
    "to simplify the problem. In this case one would say that a $\\chi^2_{\\rm red}\\sim 1$ shows that the model is a good fit to the data. But how close? That would depend on $d$. A better way to do this is to use the $p$-value,\n",
    "\n",
    "\\begin{equation}\n",
    "p{\\rm -value}= P(\\chi^2>\\chi_{\\rm m}^2| {\\rm Model}) = \\int_{\\chi_{\\rm m}}^{\\infty} {\\rm d} \\chi^2 p(\\chi^2| {\\rm Model}),\n",
    "\\end{equation}\n",
    "\n",
    "where $\\chi^2_{\\rm m}$ is your measured $\\chi^2$. \n",
    "\n",
    "Usually you set a $p$-value threshold in advance for example, 0.05 or 0.01 or 0.001, then if you find that your $p$-value is smaller than this you conclude that your have a bad fit and therefore there is something wrong with the Model. \n",
    "\n",
    "To understand the concept of $p$-value lets plot the distribution of $p$-values for all the $\\chi^2$ values that you created in C.2. \n"
   ]
  },
  {
   "cell_type": "code",
   "execution_count": null,
   "id": "c3eac9bb",
   "metadata": {},
   "outputs": [],
   "source": [
    "# Calculate the p-value for your nReal chi^2 values\n",
    "# You don't need to take the integral yourself, because scipy can do that for you. Use chi2.sf to do so. \n",
    "\n",
    "# Plot the histogram, What is the expected distribution for $p$-value in your case?\n"
   ]
  },
  {
   "cell_type": "markdown",
   "id": "9b268abc",
   "metadata": {},
   "source": [
    "## C.5 $p$-value distribution for the wrong model\n",
    "\n",
    "Now we are going to look at what happens to our $\\chi^2$ distribution and $p$-values if the model doesn't match the data. We can do this exercise with two different functions, but for simplicity we will use the same simple function as before, but this time with a different $a$ and $b$, then repeat everything from C.2 to C.4. Keep your noise realisation and data the same as before (you can save these into an ndarray for example using stacking or append to a list of arrays). Change your y_th to the new value when you calculate $\\chi^2$. The rest shoud be the same as above. "
   ]
  },
  {
   "cell_type": "code",
   "execution_count": null,
   "id": "843d12fb",
   "metadata": {},
   "outputs": [],
   "source": [
    "# define a new y_th using different a and b values\n",
    "a = 1.5\n",
    "b = 0.0\n",
    "\n",
    "# y_th_new = \n",
    "\n",
    "\n",
    "# Calculate chi^2 for y_th_new and the original y_data nReal realisations \n",
    "\n",
    "\n",
    "# Plot the new chi^2 histogram on top of the old one. What do you see?\n",
    "\n"
   ]
  },
  {
   "cell_type": "code",
   "execution_count": null,
   "id": "54e3c565",
   "metadata": {},
   "outputs": [],
   "source": [
    "# Calculate p-values for the new chi^2 values and plot them on top of the old ones. What do you see?\n",
    "\n",
    "\n",
    "\n"
   ]
  },
  {
   "cell_type": "markdown",
   "id": "0caca7b9",
   "metadata": {},
   "source": [
    "## D: Extras!\n",
    "\n",
    "Congradulations! You've got this far. Hopefully you have a better understanding of goodness-of-fit. Here are some extra questions to answer or code up:\n",
    "\n",
    "1. We set $a$ and $b$ to certain values above. What happens if you change that? Does it matter how far away they are from the origianl values? \n",
    "\n",
    "2. What if our errorbars were much smaller or larger? Does that impact the results? Repeat the exercise but change sigma to a different value (use the independent noise realisation for this). \n",
    "\n",
    "3. Lets say your data was drawn from a model (create a new function that is more complex). What if you tried to fit our original simple model to it? How would that change the chi^2 values. To do this you'll need to find the best fitting values for your parameters given a model. You can modify your MCMC code to do this. Repeat this for all noise realisations, once with the correct model (the more complex one that the data is created from) and then for the wrong model (the simple one we used at the start). Every time you run your code for a different realisation you'll get a different set of values for your parameters (keep this somewhere, e.g. an array or a list). Then calculate the $\\chi^2$ for each case repeating C.1 to C.4. How does the $\\chi^2$ distribution change for the correct model? What about the wrong model? How do they compare? \n",
    "\n",
    "4. Repeat the above exercise but with different error values. \n",
    "\n",
    "5. Imagine you have two models that are identical for one part of the data (say at large x they tend to the same value) but they are different for another part (e.g. at small x). What happens if you look at the $\\chi^2$ values for the full data vector using both models, versus looking at only part of the data? First think about this and then come up with two models with this property and repeat C.2 to C.4 for them using all or part of the data. "
   ]
  },
  {
   "cell_type": "code",
   "execution_count": null,
   "id": "77e7fcaa",
   "metadata": {},
   "outputs": [],
   "source": []
  }
 ],
 "metadata": {
  "kernelspec": {
   "display_name": "Python 3",
   "language": "python",
   "name": "python3"
  },
  "language_info": {
   "codemirror_mode": {
    "name": "ipython",
    "version": 3
   },
   "file_extension": ".py",
   "mimetype": "text/x-python",
   "name": "python",
   "nbconvert_exporter": "python",
   "pygments_lexer": "ipython3",
   "version": "3.8.8"
  }
 },
 "nbformat": 4,
 "nbformat_minor": 5
}
